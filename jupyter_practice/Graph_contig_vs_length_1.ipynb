{
 "cells": [
  {
   "cell_type": "code",
   "execution_count": 1,
   "metadata": {
    "collapsed": true
   },
   "outputs": [],
   "source": [
    "files=list.files(path=\"/home/conrad/Data/160902_NextSeq/primary_project/possible_workable/assemblies_D9/stats_for_graph_D11\", pattern=\"*.tsv\", full.names=TRUE, recursive=FALSE)"
   ]
  },
  {
   "cell_type": "code",
   "execution_count": 2,
   "metadata": {
    "collapsed": false
   },
   "outputs": [
    {
     "data": {
      "text/html": [
       "<ol class=list-inline>\n",
       "\t<li>'/home/conrad/Data/160902_NextSeq/primary_project/possible_workable/assemblies_D9/stats_for_graph_D11/19_stats_for_graph.tsv'</li>\n",
       "\t<li>'/home/conrad/Data/160902_NextSeq/primary_project/possible_workable/assemblies_D9/stats_for_graph_D11/21_stats_for_graph.tsv'</li>\n",
       "\t<li>'/home/conrad/Data/160902_NextSeq/primary_project/possible_workable/assemblies_D9/stats_for_graph_D11/23_stats_for_graph.tsv'</li>\n",
       "\t<li>'/home/conrad/Data/160902_NextSeq/primary_project/possible_workable/assemblies_D9/stats_for_graph_D11/26_stats_for_graph.tsv'</li>\n",
       "\t<li>'/home/conrad/Data/160902_NextSeq/primary_project/possible_workable/assemblies_D9/stats_for_graph_D11/28_stats_for_graph.tsv'</li>\n",
       "\t<li>'/home/conrad/Data/160902_NextSeq/primary_project/possible_workable/assemblies_D9/stats_for_graph_D11/30_stats_for_graph.tsv'</li>\n",
       "\t<li>'/home/conrad/Data/160902_NextSeq/primary_project/possible_workable/assemblies_D9/stats_for_graph_D11/36_stats_for_graph.tsv'</li>\n",
       "\t<li>'/home/conrad/Data/160902_NextSeq/primary_project/possible_workable/assemblies_D9/stats_for_graph_D11/37_stats_for_graph.tsv'</li>\n",
       "\t<li>'/home/conrad/Data/160902_NextSeq/primary_project/possible_workable/assemblies_D9/stats_for_graph_D11/38_stats_for_graph.tsv'</li>\n",
       "\t<li>'/home/conrad/Data/160902_NextSeq/primary_project/possible_workable/assemblies_D9/stats_for_graph_D11/39_stats_for_graph.tsv'</li>\n",
       "\t<li>'/home/conrad/Data/160902_NextSeq/primary_project/possible_workable/assemblies_D9/stats_for_graph_D11/43_stats_for_graph.tsv'</li>\n",
       "\t<li>'/home/conrad/Data/160902_NextSeq/primary_project/possible_workable/assemblies_D9/stats_for_graph_D11/44_stats_for_graph.tsv'</li>\n",
       "\t<li>'/home/conrad/Data/160902_NextSeq/primary_project/possible_workable/assemblies_D9/stats_for_graph_D11/45_stats_for_graph.tsv'</li>\n",
       "\t<li>'/home/conrad/Data/160902_NextSeq/primary_project/possible_workable/assemblies_D9/stats_for_graph_D11/464_stats_for_graph.tsv'</li>\n",
       "\t<li>'/home/conrad/Data/160902_NextSeq/primary_project/possible_workable/assemblies_D9/stats_for_graph_D11/541-1_stats_for_graph.tsv'</li>\n",
       "\t<li>'/home/conrad/Data/160902_NextSeq/primary_project/possible_workable/assemblies_D9/stats_for_graph_D11/97_stats_for_graph.tsv'</li>\n",
       "</ol>\n"
      ],
      "text/latex": [
       "\\begin{enumerate*}\n",
       "\\item '/home/conrad/Data/160902\\_NextSeq/primary\\_project/possible\\_workable/assemblies\\_D9/stats\\_for\\_graph\\_D11/19\\_stats\\_for\\_graph.tsv'\n",
       "\\item '/home/conrad/Data/160902\\_NextSeq/primary\\_project/possible\\_workable/assemblies\\_D9/stats\\_for\\_graph\\_D11/21\\_stats\\_for\\_graph.tsv'\n",
       "\\item '/home/conrad/Data/160902\\_NextSeq/primary\\_project/possible\\_workable/assemblies\\_D9/stats\\_for\\_graph\\_D11/23\\_stats\\_for\\_graph.tsv'\n",
       "\\item '/home/conrad/Data/160902\\_NextSeq/primary\\_project/possible\\_workable/assemblies\\_D9/stats\\_for\\_graph\\_D11/26\\_stats\\_for\\_graph.tsv'\n",
       "\\item '/home/conrad/Data/160902\\_NextSeq/primary\\_project/possible\\_workable/assemblies\\_D9/stats\\_for\\_graph\\_D11/28\\_stats\\_for\\_graph.tsv'\n",
       "\\item '/home/conrad/Data/160902\\_NextSeq/primary\\_project/possible\\_workable/assemblies\\_D9/stats\\_for\\_graph\\_D11/30\\_stats\\_for\\_graph.tsv'\n",
       "\\item '/home/conrad/Data/160902\\_NextSeq/primary\\_project/possible\\_workable/assemblies\\_D9/stats\\_for\\_graph\\_D11/36\\_stats\\_for\\_graph.tsv'\n",
       "\\item '/home/conrad/Data/160902\\_NextSeq/primary\\_project/possible\\_workable/assemblies\\_D9/stats\\_for\\_graph\\_D11/37\\_stats\\_for\\_graph.tsv'\n",
       "\\item '/home/conrad/Data/160902\\_NextSeq/primary\\_project/possible\\_workable/assemblies\\_D9/stats\\_for\\_graph\\_D11/38\\_stats\\_for\\_graph.tsv'\n",
       "\\item '/home/conrad/Data/160902\\_NextSeq/primary\\_project/possible\\_workable/assemblies\\_D9/stats\\_for\\_graph\\_D11/39\\_stats\\_for\\_graph.tsv'\n",
       "\\item '/home/conrad/Data/160902\\_NextSeq/primary\\_project/possible\\_workable/assemblies\\_D9/stats\\_for\\_graph\\_D11/43\\_stats\\_for\\_graph.tsv'\n",
       "\\item '/home/conrad/Data/160902\\_NextSeq/primary\\_project/possible\\_workable/assemblies\\_D9/stats\\_for\\_graph\\_D11/44\\_stats\\_for\\_graph.tsv'\n",
       "\\item '/home/conrad/Data/160902\\_NextSeq/primary\\_project/possible\\_workable/assemblies\\_D9/stats\\_for\\_graph\\_D11/45\\_stats\\_for\\_graph.tsv'\n",
       "\\item '/home/conrad/Data/160902\\_NextSeq/primary\\_project/possible\\_workable/assemblies\\_D9/stats\\_for\\_graph\\_D11/464\\_stats\\_for\\_graph.tsv'\n",
       "\\item '/home/conrad/Data/160902\\_NextSeq/primary\\_project/possible\\_workable/assemblies\\_D9/stats\\_for\\_graph\\_D11/541-1\\_stats\\_for\\_graph.tsv'\n",
       "\\item '/home/conrad/Data/160902\\_NextSeq/primary\\_project/possible\\_workable/assemblies\\_D9/stats\\_for\\_graph\\_D11/97\\_stats\\_for\\_graph.tsv'\n",
       "\\end{enumerate*}\n"
      ],
      "text/markdown": [
       "1. '/home/conrad/Data/160902_NextSeq/primary_project/possible_workable/assemblies_D9/stats_for_graph_D11/19_stats_for_graph.tsv'\n",
       "2. '/home/conrad/Data/160902_NextSeq/primary_project/possible_workable/assemblies_D9/stats_for_graph_D11/21_stats_for_graph.tsv'\n",
       "3. '/home/conrad/Data/160902_NextSeq/primary_project/possible_workable/assemblies_D9/stats_for_graph_D11/23_stats_for_graph.tsv'\n",
       "4. '/home/conrad/Data/160902_NextSeq/primary_project/possible_workable/assemblies_D9/stats_for_graph_D11/26_stats_for_graph.tsv'\n",
       "5. '/home/conrad/Data/160902_NextSeq/primary_project/possible_workable/assemblies_D9/stats_for_graph_D11/28_stats_for_graph.tsv'\n",
       "6. '/home/conrad/Data/160902_NextSeq/primary_project/possible_workable/assemblies_D9/stats_for_graph_D11/30_stats_for_graph.tsv'\n",
       "7. '/home/conrad/Data/160902_NextSeq/primary_project/possible_workable/assemblies_D9/stats_for_graph_D11/36_stats_for_graph.tsv'\n",
       "8. '/home/conrad/Data/160902_NextSeq/primary_project/possible_workable/assemblies_D9/stats_for_graph_D11/37_stats_for_graph.tsv'\n",
       "9. '/home/conrad/Data/160902_NextSeq/primary_project/possible_workable/assemblies_D9/stats_for_graph_D11/38_stats_for_graph.tsv'\n",
       "10. '/home/conrad/Data/160902_NextSeq/primary_project/possible_workable/assemblies_D9/stats_for_graph_D11/39_stats_for_graph.tsv'\n",
       "11. '/home/conrad/Data/160902_NextSeq/primary_project/possible_workable/assemblies_D9/stats_for_graph_D11/43_stats_for_graph.tsv'\n",
       "12. '/home/conrad/Data/160902_NextSeq/primary_project/possible_workable/assemblies_D9/stats_for_graph_D11/44_stats_for_graph.tsv'\n",
       "13. '/home/conrad/Data/160902_NextSeq/primary_project/possible_workable/assemblies_D9/stats_for_graph_D11/45_stats_for_graph.tsv'\n",
       "14. '/home/conrad/Data/160902_NextSeq/primary_project/possible_workable/assemblies_D9/stats_for_graph_D11/464_stats_for_graph.tsv'\n",
       "15. '/home/conrad/Data/160902_NextSeq/primary_project/possible_workable/assemblies_D9/stats_for_graph_D11/541-1_stats_for_graph.tsv'\n",
       "16. '/home/conrad/Data/160902_NextSeq/primary_project/possible_workable/assemblies_D9/stats_for_graph_D11/97_stats_for_graph.tsv'\n",
       "\n",
       "\n"
      ],
      "text/plain": [
       " [1] \"/home/conrad/Data/160902_NextSeq/primary_project/possible_workable/assemblies_D9/stats_for_graph_D11/19_stats_for_graph.tsv\"   \n",
       " [2] \"/home/conrad/Data/160902_NextSeq/primary_project/possible_workable/assemblies_D9/stats_for_graph_D11/21_stats_for_graph.tsv\"   \n",
       " [3] \"/home/conrad/Data/160902_NextSeq/primary_project/possible_workable/assemblies_D9/stats_for_graph_D11/23_stats_for_graph.tsv\"   \n",
       " [4] \"/home/conrad/Data/160902_NextSeq/primary_project/possible_workable/assemblies_D9/stats_for_graph_D11/26_stats_for_graph.tsv\"   \n",
       " [5] \"/home/conrad/Data/160902_NextSeq/primary_project/possible_workable/assemblies_D9/stats_for_graph_D11/28_stats_for_graph.tsv\"   \n",
       " [6] \"/home/conrad/Data/160902_NextSeq/primary_project/possible_workable/assemblies_D9/stats_for_graph_D11/30_stats_for_graph.tsv\"   \n",
       " [7] \"/home/conrad/Data/160902_NextSeq/primary_project/possible_workable/assemblies_D9/stats_for_graph_D11/36_stats_for_graph.tsv\"   \n",
       " [8] \"/home/conrad/Data/160902_NextSeq/primary_project/possible_workable/assemblies_D9/stats_for_graph_D11/37_stats_for_graph.tsv\"   \n",
       " [9] \"/home/conrad/Data/160902_NextSeq/primary_project/possible_workable/assemblies_D9/stats_for_graph_D11/38_stats_for_graph.tsv\"   \n",
       "[10] \"/home/conrad/Data/160902_NextSeq/primary_project/possible_workable/assemblies_D9/stats_for_graph_D11/39_stats_for_graph.tsv\"   \n",
       "[11] \"/home/conrad/Data/160902_NextSeq/primary_project/possible_workable/assemblies_D9/stats_for_graph_D11/43_stats_for_graph.tsv\"   \n",
       "[12] \"/home/conrad/Data/160902_NextSeq/primary_project/possible_workable/assemblies_D9/stats_for_graph_D11/44_stats_for_graph.tsv\"   \n",
       "[13] \"/home/conrad/Data/160902_NextSeq/primary_project/possible_workable/assemblies_D9/stats_for_graph_D11/45_stats_for_graph.tsv\"   \n",
       "[14] \"/home/conrad/Data/160902_NextSeq/primary_project/possible_workable/assemblies_D9/stats_for_graph_D11/464_stats_for_graph.tsv\"  \n",
       "[15] \"/home/conrad/Data/160902_NextSeq/primary_project/possible_workable/assemblies_D9/stats_for_graph_D11/541-1_stats_for_graph.tsv\"\n",
       "[16] \"/home/conrad/Data/160902_NextSeq/primary_project/possible_workable/assemblies_D9/stats_for_graph_D11/97_stats_for_graph.tsv\"   "
      ]
     },
     "metadata": {},
     "output_type": "display_data"
    }
   ],
   "source": [
    "files"
   ]
  },
  {
   "cell_type": "code",
   "execution_count": 3,
   "metadata": {
    "collapsed": false
   },
   "outputs": [
    {
     "data": {
      "text/html": [
       "<strong>png:</strong> 2"
      ],
      "text/latex": [
       "\\textbf{png:} 2"
      ],
      "text/markdown": [
       "**png:** 2"
      ],
      "text/plain": [
       "png \n",
       "  2 "
      ]
     },
     "metadata": {},
     "output_type": "display_data"
    }
   ],
   "source": [
    "pdf(\"length_vs_coverage_possible_isolates.pdf\", width=50, height=40)\n",
    "par(mfrow=c(8,10))\n",
    "for (file in files){\n",
    "    name <- basename(file)\n",
    "    data <- read.table(file, header=TRUE, sep=\"\\t\")\n",
    "    data1 <- transform(data, Color=as.character(Color), Outline=as.character(Outline))\n",
    "    plot(log10(data1$Length), log10(data$Coverage), pch=21, cex=0.8, col=data1$Outline, bg=data1$Color, xlab=\"Contig Length (log)\", ylab=\"Contig Coverage (log)\", las=1, main=name)\n",
    "}\n",
    "dev.off()"
   ]
  },
  {
   "cell_type": "code",
   "execution_count": null,
   "metadata": {
    "collapsed": true
   },
   "outputs": [],
   "source": []
  }
 ],
 "metadata": {
  "anaconda-cloud": {},
  "kernelspec": {
   "display_name": "R",
   "language": "R",
   "name": "ir"
  },
  "language_info": {
   "codemirror_mode": "r",
   "file_extension": ".r",
   "mimetype": "text/x-r-source",
   "name": "R",
   "pygments_lexer": "r",
   "version": "3.3.2"
  }
 },
 "nbformat": 4,
 "nbformat_minor": 1
}
