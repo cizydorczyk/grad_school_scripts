{
 "cells": [
  {
   "cell_type": "code",
   "execution_count": null,
   "metadata": {
    "collapsed": false,
    "scrolled": true
   },
   "outputs": [],
   "source": [
    "from sys import argv\n",
    "import numpy as np\n",
    "import pandas as pd\n",
    "\n",
    "input_alignment_file = \"/home/conrad/Data/primary_project_3/reference_alignments/G49_PAO1/alignments/snp_alignment_-538_-542.fa\"\n",
    "\n",
    "fasta_seq = []\n",
    "fasta_seq_names = []\n",
    "\n",
    "with open(input_alignment_file, 'r') as infile1:\n",
    "    for line in infile1:\n",
    "        if line.startswith(\">\"):\n",
    "            fasta_seq.append(next(infile1).strip())\n",
    "            fasta_seq_names.append(line.strip()[1:])\n",
    "\n",
    "reference = fasta_seq.pop(-1)\n",
    "fasta_seq_names.pop(-1)\n",
    "\n",
    "snp_matrix = pd.DataFrame(np.empty((163, 171486), dtype=int))\n",
    "\n",
    "for i in range(0,len(fasta_seq)):\n",
    "    for j in range(0,len(reference)):\n",
    "        if reference[j] == fasta_seq[i][j]:\n",
    "            snp_matrix.set_value(i, j, 0)\n",
    "        else:\n",
    "            snp_matrix.set_value(i, j, 1)\n",
    "            \n",
    "print snp_matrix\n",
    "# print snp_matrix[0:10,1:10]"
   ]
  },
  {
   "cell_type": "code",
   "execution_count": null,
   "metadata": {
    "collapsed": true
   },
   "outputs": [],
   "source": []
  }
 ],
 "metadata": {
  "kernelspec": {
   "display_name": "Python [conda root]",
   "language": "python",
   "name": "conda-root-py"
  },
  "language_info": {
   "codemirror_mode": {
    "name": "ipython",
    "version": 2
   },
   "file_extension": ".py",
   "mimetype": "text/x-python",
   "name": "python",
   "nbconvert_exporter": "python",
   "pygments_lexer": "ipython2",
   "version": "2.7.13"
  }
 },
 "nbformat": 4,
 "nbformat_minor": 2
}
