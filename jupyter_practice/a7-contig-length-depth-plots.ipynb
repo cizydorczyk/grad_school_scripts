{
 "cells": [
  {
   "cell_type": "code",
   "execution_count": 4,
   "metadata": {},
   "outputs": [],
   "source": [
    "files=list.files(path=\"/home/conrad/ecoli/de-novo-assemblies/a7-assembly-blast/parsed_blast_output/\", pattern=\"*.txt\", full.names=TRUE, recursive=FALSE)"
   ]
  },
  {
   "cell_type": "code",
   "execution_count": 5,
   "metadata": {},
   "outputs": [
    {
     "data": {
      "text/html": [
       "<ol class=list-inline>\n",
       "\t<li>'/home/conrad/ecoli/de-novo-assemblies/a7-assembly-blast/parsed_blast_output//A058-E01-29-03-2006_parsed_blast_output.txt'</li>\n",
       "\t<li>'/home/conrad/ecoli/de-novo-assemblies/a7-assembly-blast/parsed_blast_output//A058-E02-01-04-2013_parsed_blast_output.txt'</li>\n",
       "\t<li>'/home/conrad/ecoli/de-novo-assemblies/a7-assembly-blast/parsed_blast_output//A058-E03-04-12-2013_parsed_blast_output.txt'</li>\n",
       "\t<li>'/home/conrad/ecoli/de-novo-assemblies/a7-assembly-blast/parsed_blast_output//A058-E98-03-09-2014_parsed_blast_output.txt'</li>\n",
       "\t<li>'/home/conrad/ecoli/de-novo-assemblies/a7-assembly-blast/parsed_blast_output//A060-E61-18-05-1988_parsed_blast_output.txt'</li>\n",
       "\t<li>'/home/conrad/ecoli/de-novo-assemblies/a7-assembly-blast/parsed_blast_output//A111-E09-13-05-2009_parsed_blast_output.txt'</li>\n",
       "\t<li>'/home/conrad/ecoli/de-novo-assemblies/a7-assembly-blast/parsed_blast_output//A111-E10-08-02-2010_parsed_blast_output.txt'</li>\n",
       "\t<li>'/home/conrad/ecoli/de-novo-assemblies/a7-assembly-blast/parsed_blast_output//A111-E91-08-02-2010_parsed_blast_output.txt'</li>\n",
       "\t<li>'/home/conrad/ecoli/de-novo-assemblies/a7-assembly-blast/parsed_blast_output//A141-E122-15-08-2000_parsed_blast_output.txt'</li>\n",
       "\t<li>'/home/conrad/ecoli/de-novo-assemblies/a7-assembly-blast/parsed_blast_output//A141-E22-06-11-1996_parsed_blast_output.txt'</li>\n",
       "\t<li>'/home/conrad/ecoli/de-novo-assemblies/a7-assembly-blast/parsed_blast_output//A141-E23-17-03-1999_parsed_blast_output.txt'</li>\n",
       "\t<li>'/home/conrad/ecoli/de-novo-assemblies/a7-assembly-blast/parsed_blast_output//A141-E24-05-12-2001_parsed_blast_output.txt'</li>\n",
       "\t<li>'/home/conrad/ecoli/de-novo-assemblies/a7-assembly-blast/parsed_blast_output//A141-E25-10-02-2003_parsed_blast_output.txt'</li>\n",
       "\t<li>'/home/conrad/ecoli/de-novo-assemblies/a7-assembly-blast/parsed_blast_output//A141-E26-12-10-2005_parsed_blast_output.txt'</li>\n",
       "\t<li>'/home/conrad/ecoli/de-novo-assemblies/a7-assembly-blast/parsed_blast_output//A141-E27-20-06-2007_parsed_blast_output.txt'</li>\n",
       "\t<li>'/home/conrad/ecoli/de-novo-assemblies/a7-assembly-blast/parsed_blast_output//A141-E87-18-04-2002_parsed_blast_output.txt'</li>\n",
       "\t<li>'/home/conrad/ecoli/de-novo-assemblies/a7-assembly-blast/parsed_blast_output//A141-E88-22-09-2004_parsed_blast_output.txt'</li>\n",
       "\t<li>'/home/conrad/ecoli/de-novo-assemblies/a7-assembly-blast/parsed_blast_output//A141-E90-28-08-2006_parsed_blast_output.txt'</li>\n",
       "\t<li>'/home/conrad/ecoli/de-novo-assemblies/a7-assembly-blast/parsed_blast_output//A329-E111-18-01-2016_parsed_blast_output.txt'</li>\n",
       "\t<li>'/home/conrad/ecoli/de-novo-assemblies/a7-assembly-blast/parsed_blast_output//A329-E96-16-06-2014_parsed_blast_output.txt'</li>\n",
       "\t<li>'/home/conrad/ecoli/de-novo-assemblies/a7-assembly-blast/parsed_blast_output//A357-E34-10-12-2010_parsed_blast_output.txt'</li>\n",
       "\t<li>'/home/conrad/ecoli/de-novo-assemblies/a7-assembly-blast/parsed_blast_output//A357-E92-04-11-2010_parsed_blast_output.txt'</li>\n",
       "</ol>\n"
      ],
      "text/latex": [
       "\\begin{enumerate*}\n",
       "\\item '/home/conrad/ecoli/de-novo-assemblies/a7-assembly-blast/parsed\\_blast\\_output//A058-E01-29-03-2006\\_parsed\\_blast\\_output.txt'\n",
       "\\item '/home/conrad/ecoli/de-novo-assemblies/a7-assembly-blast/parsed\\_blast\\_output//A058-E02-01-04-2013\\_parsed\\_blast\\_output.txt'\n",
       "\\item '/home/conrad/ecoli/de-novo-assemblies/a7-assembly-blast/parsed\\_blast\\_output//A058-E03-04-12-2013\\_parsed\\_blast\\_output.txt'\n",
       "\\item '/home/conrad/ecoli/de-novo-assemblies/a7-assembly-blast/parsed\\_blast\\_output//A058-E98-03-09-2014\\_parsed\\_blast\\_output.txt'\n",
       "\\item '/home/conrad/ecoli/de-novo-assemblies/a7-assembly-blast/parsed\\_blast\\_output//A060-E61-18-05-1988\\_parsed\\_blast\\_output.txt'\n",
       "\\item '/home/conrad/ecoli/de-novo-assemblies/a7-assembly-blast/parsed\\_blast\\_output//A111-E09-13-05-2009\\_parsed\\_blast\\_output.txt'\n",
       "\\item '/home/conrad/ecoli/de-novo-assemblies/a7-assembly-blast/parsed\\_blast\\_output//A111-E10-08-02-2010\\_parsed\\_blast\\_output.txt'\n",
       "\\item '/home/conrad/ecoli/de-novo-assemblies/a7-assembly-blast/parsed\\_blast\\_output//A111-E91-08-02-2010\\_parsed\\_blast\\_output.txt'\n",
       "\\item '/home/conrad/ecoli/de-novo-assemblies/a7-assembly-blast/parsed\\_blast\\_output//A141-E122-15-08-2000\\_parsed\\_blast\\_output.txt'\n",
       "\\item '/home/conrad/ecoli/de-novo-assemblies/a7-assembly-blast/parsed\\_blast\\_output//A141-E22-06-11-1996\\_parsed\\_blast\\_output.txt'\n",
       "\\item '/home/conrad/ecoli/de-novo-assemblies/a7-assembly-blast/parsed\\_blast\\_output//A141-E23-17-03-1999\\_parsed\\_blast\\_output.txt'\n",
       "\\item '/home/conrad/ecoli/de-novo-assemblies/a7-assembly-blast/parsed\\_blast\\_output//A141-E24-05-12-2001\\_parsed\\_blast\\_output.txt'\n",
       "\\item '/home/conrad/ecoli/de-novo-assemblies/a7-assembly-blast/parsed\\_blast\\_output//A141-E25-10-02-2003\\_parsed\\_blast\\_output.txt'\n",
       "\\item '/home/conrad/ecoli/de-novo-assemblies/a7-assembly-blast/parsed\\_blast\\_output//A141-E26-12-10-2005\\_parsed\\_blast\\_output.txt'\n",
       "\\item '/home/conrad/ecoli/de-novo-assemblies/a7-assembly-blast/parsed\\_blast\\_output//A141-E27-20-06-2007\\_parsed\\_blast\\_output.txt'\n",
       "\\item '/home/conrad/ecoli/de-novo-assemblies/a7-assembly-blast/parsed\\_blast\\_output//A141-E87-18-04-2002\\_parsed\\_blast\\_output.txt'\n",
       "\\item '/home/conrad/ecoli/de-novo-assemblies/a7-assembly-blast/parsed\\_blast\\_output//A141-E88-22-09-2004\\_parsed\\_blast\\_output.txt'\n",
       "\\item '/home/conrad/ecoli/de-novo-assemblies/a7-assembly-blast/parsed\\_blast\\_output//A141-E90-28-08-2006\\_parsed\\_blast\\_output.txt'\n",
       "\\item '/home/conrad/ecoli/de-novo-assemblies/a7-assembly-blast/parsed\\_blast\\_output//A329-E111-18-01-2016\\_parsed\\_blast\\_output.txt'\n",
       "\\item '/home/conrad/ecoli/de-novo-assemblies/a7-assembly-blast/parsed\\_blast\\_output//A329-E96-16-06-2014\\_parsed\\_blast\\_output.txt'\n",
       "\\item '/home/conrad/ecoli/de-novo-assemblies/a7-assembly-blast/parsed\\_blast\\_output//A357-E34-10-12-2010\\_parsed\\_blast\\_output.txt'\n",
       "\\item '/home/conrad/ecoli/de-novo-assemblies/a7-assembly-blast/parsed\\_blast\\_output//A357-E92-04-11-2010\\_parsed\\_blast\\_output.txt'\n",
       "\\end{enumerate*}\n"
      ],
      "text/markdown": [
       "1. '/home/conrad/ecoli/de-novo-assemblies/a7-assembly-blast/parsed_blast_output//A058-E01-29-03-2006_parsed_blast_output.txt'\n",
       "2. '/home/conrad/ecoli/de-novo-assemblies/a7-assembly-blast/parsed_blast_output//A058-E02-01-04-2013_parsed_blast_output.txt'\n",
       "3. '/home/conrad/ecoli/de-novo-assemblies/a7-assembly-blast/parsed_blast_output//A058-E03-04-12-2013_parsed_blast_output.txt'\n",
       "4. '/home/conrad/ecoli/de-novo-assemblies/a7-assembly-blast/parsed_blast_output//A058-E98-03-09-2014_parsed_blast_output.txt'\n",
       "5. '/home/conrad/ecoli/de-novo-assemblies/a7-assembly-blast/parsed_blast_output//A060-E61-18-05-1988_parsed_blast_output.txt'\n",
       "6. '/home/conrad/ecoli/de-novo-assemblies/a7-assembly-blast/parsed_blast_output//A111-E09-13-05-2009_parsed_blast_output.txt'\n",
       "7. '/home/conrad/ecoli/de-novo-assemblies/a7-assembly-blast/parsed_blast_output//A111-E10-08-02-2010_parsed_blast_output.txt'\n",
       "8. '/home/conrad/ecoli/de-novo-assemblies/a7-assembly-blast/parsed_blast_output//A111-E91-08-02-2010_parsed_blast_output.txt'\n",
       "9. '/home/conrad/ecoli/de-novo-assemblies/a7-assembly-blast/parsed_blast_output//A141-E122-15-08-2000_parsed_blast_output.txt'\n",
       "10. '/home/conrad/ecoli/de-novo-assemblies/a7-assembly-blast/parsed_blast_output//A141-E22-06-11-1996_parsed_blast_output.txt'\n",
       "11. '/home/conrad/ecoli/de-novo-assemblies/a7-assembly-blast/parsed_blast_output//A141-E23-17-03-1999_parsed_blast_output.txt'\n",
       "12. '/home/conrad/ecoli/de-novo-assemblies/a7-assembly-blast/parsed_blast_output//A141-E24-05-12-2001_parsed_blast_output.txt'\n",
       "13. '/home/conrad/ecoli/de-novo-assemblies/a7-assembly-blast/parsed_blast_output//A141-E25-10-02-2003_parsed_blast_output.txt'\n",
       "14. '/home/conrad/ecoli/de-novo-assemblies/a7-assembly-blast/parsed_blast_output//A141-E26-12-10-2005_parsed_blast_output.txt'\n",
       "15. '/home/conrad/ecoli/de-novo-assemblies/a7-assembly-blast/parsed_blast_output//A141-E27-20-06-2007_parsed_blast_output.txt'\n",
       "16. '/home/conrad/ecoli/de-novo-assemblies/a7-assembly-blast/parsed_blast_output//A141-E87-18-04-2002_parsed_blast_output.txt'\n",
       "17. '/home/conrad/ecoli/de-novo-assemblies/a7-assembly-blast/parsed_blast_output//A141-E88-22-09-2004_parsed_blast_output.txt'\n",
       "18. '/home/conrad/ecoli/de-novo-assemblies/a7-assembly-blast/parsed_blast_output//A141-E90-28-08-2006_parsed_blast_output.txt'\n",
       "19. '/home/conrad/ecoli/de-novo-assemblies/a7-assembly-blast/parsed_blast_output//A329-E111-18-01-2016_parsed_blast_output.txt'\n",
       "20. '/home/conrad/ecoli/de-novo-assemblies/a7-assembly-blast/parsed_blast_output//A329-E96-16-06-2014_parsed_blast_output.txt'\n",
       "21. '/home/conrad/ecoli/de-novo-assemblies/a7-assembly-blast/parsed_blast_output//A357-E34-10-12-2010_parsed_blast_output.txt'\n",
       "22. '/home/conrad/ecoli/de-novo-assemblies/a7-assembly-blast/parsed_blast_output//A357-E92-04-11-2010_parsed_blast_output.txt'\n",
       "\n",
       "\n"
      ],
      "text/plain": [
       " [1] \"/home/conrad/ecoli/de-novo-assemblies/a7-assembly-blast/parsed_blast_output//A058-E01-29-03-2006_parsed_blast_output.txt\" \n",
       " [2] \"/home/conrad/ecoli/de-novo-assemblies/a7-assembly-blast/parsed_blast_output//A058-E02-01-04-2013_parsed_blast_output.txt\" \n",
       " [3] \"/home/conrad/ecoli/de-novo-assemblies/a7-assembly-blast/parsed_blast_output//A058-E03-04-12-2013_parsed_blast_output.txt\" \n",
       " [4] \"/home/conrad/ecoli/de-novo-assemblies/a7-assembly-blast/parsed_blast_output//A058-E98-03-09-2014_parsed_blast_output.txt\" \n",
       " [5] \"/home/conrad/ecoli/de-novo-assemblies/a7-assembly-blast/parsed_blast_output//A060-E61-18-05-1988_parsed_blast_output.txt\" \n",
       " [6] \"/home/conrad/ecoli/de-novo-assemblies/a7-assembly-blast/parsed_blast_output//A111-E09-13-05-2009_parsed_blast_output.txt\" \n",
       " [7] \"/home/conrad/ecoli/de-novo-assemblies/a7-assembly-blast/parsed_blast_output//A111-E10-08-02-2010_parsed_blast_output.txt\" \n",
       " [8] \"/home/conrad/ecoli/de-novo-assemblies/a7-assembly-blast/parsed_blast_output//A111-E91-08-02-2010_parsed_blast_output.txt\" \n",
       " [9] \"/home/conrad/ecoli/de-novo-assemblies/a7-assembly-blast/parsed_blast_output//A141-E122-15-08-2000_parsed_blast_output.txt\"\n",
       "[10] \"/home/conrad/ecoli/de-novo-assemblies/a7-assembly-blast/parsed_blast_output//A141-E22-06-11-1996_parsed_blast_output.txt\" \n",
       "[11] \"/home/conrad/ecoli/de-novo-assemblies/a7-assembly-blast/parsed_blast_output//A141-E23-17-03-1999_parsed_blast_output.txt\" \n",
       "[12] \"/home/conrad/ecoli/de-novo-assemblies/a7-assembly-blast/parsed_blast_output//A141-E24-05-12-2001_parsed_blast_output.txt\" \n",
       "[13] \"/home/conrad/ecoli/de-novo-assemblies/a7-assembly-blast/parsed_blast_output//A141-E25-10-02-2003_parsed_blast_output.txt\" \n",
       "[14] \"/home/conrad/ecoli/de-novo-assemblies/a7-assembly-blast/parsed_blast_output//A141-E26-12-10-2005_parsed_blast_output.txt\" \n",
       "[15] \"/home/conrad/ecoli/de-novo-assemblies/a7-assembly-blast/parsed_blast_output//A141-E27-20-06-2007_parsed_blast_output.txt\" \n",
       "[16] \"/home/conrad/ecoli/de-novo-assemblies/a7-assembly-blast/parsed_blast_output//A141-E87-18-04-2002_parsed_blast_output.txt\" \n",
       "[17] \"/home/conrad/ecoli/de-novo-assemblies/a7-assembly-blast/parsed_blast_output//A141-E88-22-09-2004_parsed_blast_output.txt\" \n",
       "[18] \"/home/conrad/ecoli/de-novo-assemblies/a7-assembly-blast/parsed_blast_output//A141-E90-28-08-2006_parsed_blast_output.txt\" \n",
       "[19] \"/home/conrad/ecoli/de-novo-assemblies/a7-assembly-blast/parsed_blast_output//A329-E111-18-01-2016_parsed_blast_output.txt\"\n",
       "[20] \"/home/conrad/ecoli/de-novo-assemblies/a7-assembly-blast/parsed_blast_output//A329-E96-16-06-2014_parsed_blast_output.txt\" \n",
       "[21] \"/home/conrad/ecoli/de-novo-assemblies/a7-assembly-blast/parsed_blast_output//A357-E34-10-12-2010_parsed_blast_output.txt\" \n",
       "[22] \"/home/conrad/ecoli/de-novo-assemblies/a7-assembly-blast/parsed_blast_output//A357-E92-04-11-2010_parsed_blast_output.txt\" "
      ]
     },
     "metadata": {},
     "output_type": "display_data"
    }
   ],
   "source": [
    "files"
   ]
  },
  {
   "cell_type": "code",
   "execution_count": 10,
   "metadata": {},
   "outputs": [
    {
     "data": {
      "text/html": [
       "<strong>png:</strong> 2"
      ],
      "text/latex": [
       "\\textbf{png:} 2"
      ],
      "text/markdown": [
       "**png:** 2"
      ],
      "text/plain": [
       "png \n",
       "  2 "
      ]
     },
     "metadata": {},
     "output_type": "display_data"
    }
   ],
   "source": [
    "pdf(\"/home/conrad/ecoli/de-novo-assemblies/a7-assembly-blast/ecoli-contig-length-depth-plots.pdf\", width=20, height=20)\n",
    "par(mfrow=c(4,4))\n",
    "for (file in files){\n",
    "    name <- basename(file)\n",
    "    data <- read.table(file, header=TRUE, sep=\"\\t\")\n",
    "    # colnames(data) <- c(\"index\", \"name\", \"length\", \"readcount\", \"singlereads\", \"readsinpairs\", \"coverage\", \"color1\", \"color2\")\n",
    "    data1 <- transform(data, Color=as.character(Color), Outline=as.character(Outline))\n",
    "    plot(log10(data1$Length), log10(data1$Coverage), pch=21, cex=0.8, col=data1$Outline, bg=data1$Color, xlab=\"Contig Length (log)\", ylab=\"Contig Coverage (log)\", las=1, main=name, ylim=c(0,4))\n",
    "}\n",
    "dev.off()"
   ]
  },
  {
   "cell_type": "code",
   "execution_count": null,
   "metadata": {
    "collapsed": true
   },
   "outputs": [],
   "source": []
  }
 ],
 "metadata": {
  "anaconda-cloud": {},
  "kernelspec": {
   "display_name": "R",
   "language": "R",
   "name": "ir"
  },
  "language_info": {
   "codemirror_mode": "r",
   "file_extension": ".r",
   "mimetype": "text/x-r-source",
   "name": "R",
   "pygments_lexer": "r",
   "version": "3.4.4"
  }
 },
 "nbformat": 4,
 "nbformat_minor": 1
}
