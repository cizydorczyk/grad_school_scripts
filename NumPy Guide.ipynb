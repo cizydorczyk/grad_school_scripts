{
 "cells": [
  {
   "cell_type": "code",
   "execution_count": 2,
   "metadata": {
    "collapsed": true
   },
   "outputs": [],
   "source": [
    "## NumPy Guide\n",
    "\n",
    "## Introduction to NumPy Arrays\n",
    "## ~~~~~~~~~~~~~~~~~~~~~~~~~~~~\n",
    "## NumPy arrays differ from python lists in that they consist of a single datatype, and store data more efficiently.\n",
    "## For example, a python integer type item actually consists of four pieces of information:\n",
    "\n",
    "##    ob_refcnt, a reference count that helps Python silently handle memory allocation and deallocation\n",
    "##    ob_type, which encodes the type of the variable\n",
    "##    ob_size, which specifies the size of the following data members\n",
    "##    ob_digit, which contains the actual integer value that we expect the Python variable to represent.\n",
    "\n",
    "## As you can imagine, if you have a list of integers, you have a lot of redundancy. NumPy arrays differ in that they\n",
    "## store only a single datatype, but in doing so, avoid this redundancy by specifying this extra info only once. Python\n",
    "## arrays are essentially the same thing, but you can perform a variety of operations on NumPy arrays that you cannot \n",
    "## on Python arrays.\n",
    "\n",
    "## Getting started with NumPy, import NumPy:\n",
    "\n",
    "import numpy as np"
   ]
  },
  {
   "cell_type": "code",
   "execution_count": 18,
   "metadata": {
    "collapsed": false
   },
   "outputs": [
    {
     "name": "stdout",
     "output_type": "stream",
     "text": [
      "array1\n",
      "[1 2 3 4 5]\n",
      "\n",
      "\n",
      "array2\n",
      "[[ 1  2  3  4  5]\n",
      " [ 6  7  8  9 10]]\n",
      "\n",
      "\n",
      "3x5 array filled with 3.14 floats\n",
      "[[ 3.14  3.14  3.14  3.14  3.14]\n",
      " [ 3.14  3.14  3.14  3.14  3.14]\n",
      " [ 3.14  3.14  3.14  3.14  3.14]]\n",
      "\n",
      "\n",
      "1d array filled with linear sequence, step = 2\n",
      "[ 0  2  4  6  8 10 12 14 16 18]\n",
      "\n",
      "\n",
      "3x3 array of random integers between 0 and 10\n",
      "[[0 7 9]\n",
      " [9 4 9]\n",
      " [2 8 2]]\n",
      "\n",
      "\n",
      "3x3 array or normally dist. random values with mean 0 and stdev 1\n",
      "[[ 0.14333953  0.73794765  0.36158562]\n",
      " [-0.13241717 -0.62410284  0.79313297]\n",
      " [ 1.18300066  0.08018825 -0.19774118]]\n"
     ]
    }
   ],
   "source": [
    "## The easiest way to create a numpy array is by converting a python list:\n",
    "\n",
    "list1 = [1, 2, 3, 4, 5]\n",
    "array1 = np.array(list1)\n",
    "print(\"array1\")\n",
    "print(array1)\n",
    "print('\\n')\n",
    "\n",
    "## To create a multidimensional array, you can use np.array on a list of lists:\n",
    "\n",
    "list2 = [6, 7, 8, 9, 10]\n",
    "array2 = np.array([list1, list2])\n",
    "print('array2')\n",
    "print(array2)\n",
    "print('\\n')\n",
    "\n",
    "## Various ways exist of creating a single or multidimensional array filled with arbitrary values:\n",
    "\n",
    "# 3x5 array filled with 3.14 floats:\n",
    "print(\"3x5 array filled with 3.14 floats\")\n",
    "print(np.full((3, 5), 3.14))\n",
    "print('\\n')\n",
    "\n",
    "# Create an array filled with a linear sequence\n",
    "# Starting at 0, ending at 20, stepping by 2\n",
    "# (this is similar to the built-in range() function)\n",
    "print(\"1d array filled with linear sequence, step = 2\")\n",
    "print(np.arange(0, 20, 2))\n",
    "print('\\n')\n",
    "\n",
    "# Create a 3x3 array of random integers in the interval [0, 10)\n",
    "print(\"3x3 array of random integers between 0 and 10\")\n",
    "print(np.random.randint(0, 10, (3, 3)))\n",
    "\n",
    "# Create a 3x3 array of normally distributed random values\n",
    "# with mean 0 and standard deviation 1\n",
    "print('\\n')\n",
    "print(\"3x3 array or normally dist. random values with mean 0 and stdev 1\")\n",
    "print(np.random.normal(0, 1, (3, 3)))\n",
    "\n",
    "## Other ways exist...but I'm not going to list them all here...Google exists for that"
   ]
  },
  {
   "cell_type": "code",
   "execution_count": 26,
   "metadata": {
    "collapsed": false
   },
   "outputs": [
    {
     "name": "stdout",
     "output_type": "stream",
     "text": [
      "[5 0 3 3 7 9]\n",
      "\n",
      "\n",
      "[[3 5 2 4]\n",
      " [7 6 8 8]\n",
      " [1 6 7 7]]\n",
      "\n",
      "\n",
      "[[[8 1 5 9 8]\n",
      "  [9 4 3 0 3]\n",
      "  [5 0 2 3 8]\n",
      "  [1 3 3 3 7]]\n",
      "\n",
      " [[0 1 9 9 0]\n",
      "  [4 7 3 2 7]\n",
      "  [2 0 0 4 5]\n",
      "  [5 6 8 4 1]]\n",
      "\n",
      " [[4 9 8 1 1]\n",
      "  [7 9 9 3 6]\n",
      "  [7 2 0 3 5]\n",
      "  [9 4 4 6 4]]]\n",
      "\n",
      "\n",
      "Indexing using single value:\n",
      "\n",
      "\n",
      "5\n",
      "\n",
      "\n",
      "[3 5 2 4]\n",
      "\n",
      "\n",
      "[[8 1 5 9 8]\n",
      " [9 4 3 0 3]\n",
      " [5 0 2 3 8]\n",
      " [1 3 3 3 7]]\n"
     ]
    }
   ],
   "source": [
    "## Numpy arrays can be indexed and sliced just like python lists. This applices to single and multidimensional arrays.\n",
    "\n",
    "np.random.seed(0)  # seed for reproducibility\n",
    "\n",
    "x1 = np.random.randint(10, size=6)  # One-dimensional array\n",
    "x2 = np.random.randint(10, size=(3, 4))  # Two-dimensional array\n",
    "x3 = np.random.randint(10, size=(3, 4, 5))  # Three-dimensional array\n",
    "\n",
    "print(x1)\n",
    "print('\\n')\n",
    "print(x2)\n",
    "print('\\n')\n",
    "print(x3)\n",
    "print('\\n')\n",
    "\n",
    "## Index numpy arrays using square brackets, just like a python list:\n",
    "print(\"Indexing using single value:\")\n",
    "print('\\n')\n",
    "print(x1[0])\n",
    "print('\\n')\n",
    "print(x2[0])\n",
    "print('\\n')\n",
    "print(x3[0])\n"
   ]
  },
  {
   "cell_type": "code",
   "execution_count": 29,
   "metadata": {
    "collapsed": false
   },
   "outputs": [
    {
     "name": "stdout",
     "output_type": "stream",
     "text": [
      "8\n",
      "[2 0 0 4 5]\n",
      "4\n"
     ]
    }
   ],
   "source": [
    "## As you can see, indexing higher dimensional array using a single value returns a row for a 2d array, and a 2d matrix\n",
    "## for a 3d array. To further index these higher dimensional arrays:\n",
    "\n",
    "print(x2[1,2]) # For single value from 2d array\n",
    "print(x3[1,2]) # For single row from 3d array\n",
    "print(x3[1,2,3]) # For single value from 3d array\n"
   ]
  },
  {
   "cell_type": "code",
   "execution_count": null,
   "metadata": {
    "collapsed": true
   },
   "outputs": [],
   "source": [
    "## To print a row or column (from a 2d array):\n",
    "\n",
    "print()"
   ]
  }
 ],
 "metadata": {
  "kernelspec": {
   "display_name": "Python [conda env:python35]",
   "language": "python",
   "name": "conda-env-python35-py"
  },
  "language_info": {
   "codemirror_mode": {
    "name": "ipython",
    "version": 3
   },
   "file_extension": ".py",
   "mimetype": "text/x-python",
   "name": "python",
   "nbconvert_exporter": "python",
   "pygments_lexer": "ipython3",
   "version": "3.5.2"
  }
 },
 "nbformat": 4,
 "nbformat_minor": 1
}
